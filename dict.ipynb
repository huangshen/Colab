{
  "nbformat": 4,
  "nbformat_minor": 0,
  "metadata": {
    "colab": {
      "name": "dict.ipynb",
      "provenance": [],
      "collapsed_sections": [],
      "include_colab_link": true
    },
    "kernelspec": {
      "name": "python3",
      "display_name": "Python 3"
    }
  },
  "cells": [
    {
      "cell_type": "markdown",
      "metadata": {
        "id": "view-in-github",
        "colab_type": "text"
      },
      "source": [
        "<a href=\"https://colab.research.google.com/github/huangshen/Colab/blob/main/dict.ipynb\" target=\"_parent\"><img src=\"https://colab.research.google.com/assets/colab-badge.svg\" alt=\"Open In Colab\"/></a>"
      ]
    },
    {
      "cell_type": "markdown",
      "metadata": {
        "id": "m7aepVx6gjRX"
      },
      "source": [
        "初始化一个dict"
      ]
    },
    {
      "cell_type": "code",
      "metadata": {
        "id": "9Yiwa78bgm1E",
        "colab": {
          "base_uri": "https://localhost:8080/",
          "height": 34
        },
        "outputId": "16d7afe4-1d55-4c6c-9a4c-7272a1557d98"
      },
      "source": [
        "d={'amanda':100,'bob':80}\n",
        "print(d)"
      ],
      "execution_count": null,
      "outputs": [
        {
          "output_type": "stream",
          "text": [
            "{'amanda': 100, 'bob': 80}\n"
          ],
          "name": "stdout"
        }
      ]
    },
    {
      "cell_type": "markdown",
      "metadata": {
        "id": "S91HX2L3hgW_"
      },
      "source": [
        "在dict中添加键值对"
      ]
    },
    {
      "cell_type": "code",
      "metadata": {
        "id": "ZoNNcvldhzAv",
        "colab": {
          "base_uri": "https://localhost:8080/",
          "height": 34
        },
        "outputId": "b2fefdeb-ec60-4eb9-b8b7-2cb65406ccaa"
      },
      "source": [
        "d['nancy']=98\n",
        "print(d)"
      ],
      "execution_count": null,
      "outputs": [
        {
          "output_type": "stream",
          "text": [
            "{'amanda': 100, 'bob': 80, 'nancy': 98}\n"
          ],
          "name": "stdout"
        }
      ]
    },
    {
      "cell_type": "markdown",
      "metadata": {
        "id": "QMWbu6jfiWZc"
      },
      "source": [
        "查询某个键对应的值"
      ]
    },
    {
      "cell_type": "code",
      "metadata": {
        "id": "VTjtE08bidc_"
      },
      "source": [
        "print(d['amanda'])"
      ],
      "execution_count": null,
      "outputs": []
    },
    {
      "cell_type": "markdown",
      "metadata": {
        "id": "oy7g7IAulx1E"
      },
      "source": [
        "如果当前键值不存在，会报错。 可以用get函数避免"
      ]
    },
    {
      "cell_type": "code",
      "metadata": {
        "id": "BR982W7ol86v",
        "colab": {
          "base_uri": "https://localhost:8080/",
          "height": 68
        },
        "outputId": "b49f3e1a-13b2-45de-a274-8a5061688953"
      },
      "source": [
        "print(d.get('amanda'))\n",
        "print(d.get('amanda',-1))\n",
        "d.get('amanda',-1)"
      ],
      "execution_count": null,
      "outputs": [
        {
          "output_type": "stream",
          "text": [
            "None\n",
            "-1\n"
          ],
          "name": "stdout"
        },
        {
          "output_type": "execute_result",
          "data": {
            "text/plain": [
              "-1"
            ]
          },
          "metadata": {
            "tags": []
          },
          "execution_count": 15
        }
      ]
    },
    {
      "cell_type": "markdown",
      "metadata": {
        "id": "YI51aaxnin87"
      },
      "source": [
        "查询某个键值是否存在"
      ]
    },
    {
      "cell_type": "code",
      "metadata": {
        "id": "c3yss_47isBY",
        "colab": {
          "base_uri": "https://localhost:8080/",
          "height": 51
        },
        "outputId": "a32337e9-0988-4faa-b40d-d663c7b2965f"
      },
      "source": [
        "isExist='amanda' in d\n",
        "print(isExist)\n",
        "isExist='charles' in d\n",
        "print(isExist)"
      ],
      "execution_count": null,
      "outputs": [
        {
          "output_type": "stream",
          "text": [
            "False\n",
            "False\n"
          ],
          "name": "stdout"
        }
      ]
    },
    {
      "cell_type": "markdown",
      "metadata": {
        "id": "MpLOM_UjjXO9"
      },
      "source": [
        "删除一个键值对"
      ]
    },
    {
      "cell_type": "code",
      "metadata": {
        "id": "NrcWUIaUja7P",
        "colab": {
          "base_uri": "https://localhost:8080/",
          "height": 180
        },
        "outputId": "b47cc48f-ac82-41cd-f5fd-25ce34e87e33"
      },
      "source": [
        "d.pop('amanda')\n",
        "print(d)"
      ],
      "execution_count": null,
      "outputs": [
        {
          "output_type": "error",
          "ename": "KeyError",
          "evalue": "ignored",
          "traceback": [
            "\u001b[0;31m---------------------------------------------------------------------------\u001b[0m",
            "\u001b[0;31mKeyError\u001b[0m                                  Traceback (most recent call last)",
            "\u001b[0;32m<ipython-input-16-5cabecdd183d>\u001b[0m in \u001b[0;36m<module>\u001b[0;34m()\u001b[0m\n\u001b[0;32m----> 1\u001b[0;31m \u001b[0md\u001b[0m\u001b[0;34m.\u001b[0m\u001b[0mpop\u001b[0m\u001b[0;34m(\u001b[0m\u001b[0;34m'amanda'\u001b[0m\u001b[0;34m)\u001b[0m\u001b[0;34m\u001b[0m\u001b[0;34m\u001b[0m\u001b[0m\n\u001b[0m\u001b[1;32m      2\u001b[0m \u001b[0mprint\u001b[0m\u001b[0;34m(\u001b[0m\u001b[0md\u001b[0m\u001b[0;34m)\u001b[0m\u001b[0;34m\u001b[0m\u001b[0;34m\u001b[0m\u001b[0m\n",
            "\u001b[0;31mKeyError\u001b[0m: 'amanda'"
          ]
        }
      ]
    },
    {
      "cell_type": "markdown",
      "metadata": {
        "id": "M9sVlCuyntuu"
      },
      "source": [
        "# Examples"
      ]
    },
    {
      "cell_type": "markdown",
      "metadata": {
        "id": "FJFRuWGRouev"
      },
      "source": [
        "根据一个列表生成dict"
      ]
    },
    {
      "cell_type": "code",
      "metadata": {
        "id": "Av0CcSPPoz7s",
        "colab": {
          "base_uri": "https://localhost:8080/",
          "height": 34
        },
        "outputId": "43df2e70-c500-4b40-f917-7c4512a0dfb4"
      },
      "source": [
        "names=['amanda','nancy','charles','bob']\n",
        "scores=[100,88,95,98]\n",
        "\n",
        "for i in range(len(names)):\n",
        "  d[names[i]]=scores[i]\n",
        "  \n",
        "print(d)\n",
        "  "
      ],
      "execution_count": null,
      "outputs": [
        {
          "output_type": "stream",
          "text": [
            "{'bob': 98, 'nancy': 88, 'amanda': 100, 'charles': 95}\n"
          ],
          "name": "stdout"
        }
      ]
    },
    {
      "cell_type": "markdown",
      "metadata": {
        "id": "uRMlmf5HqP-C"
      },
      "source": [
        "遍历一个dict"
      ]
    },
    {
      "cell_type": "code",
      "metadata": {
        "id": "MC0hG96BqTQv",
        "colab": {
          "base_uri": "https://localhost:8080/",
          "height": 187
        },
        "outputId": "7ce95f60-fc1e-4310-8084-a047b3cdaf34"
      },
      "source": [
        "for i in d:\n",
        "  print(i, d[i])\n",
        "\n",
        "print('\\n')\n",
        "  \n",
        "for (k,v) in d.items():\n",
        "  print(k, v)"
      ],
      "execution_count": null,
      "outputs": [
        {
          "output_type": "stream",
          "text": [
            "bob 98\n",
            "nancy 88\n",
            "amanda 100\n",
            "charles 95\n",
            "\n",
            "\n",
            "bob 98\n",
            "nancy 88\n",
            "amanda 100\n",
            "charles 95\n"
          ],
          "name": "stdout"
        }
      ]
    }
  ]
}